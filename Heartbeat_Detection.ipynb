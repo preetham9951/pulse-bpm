{
 "cells": [
  {
   "cell_type": "code",
   "execution_count": 12,
   "metadata": {},
   "outputs": [],
   "source": [
    "import pandas as pd\n",
    "import numpy as np\n",
    "import heartpy as hp # Python Heart Rate Analysis Toolkit is a module for heart rate analysis in Python\n",
    "import json\n",
    "from scipy.signal import lfilter, butter\n",
    "import matplotlib\n",
    "import matplotlib.pyplot as plt\n",
    "import warnings\n",
    "warnings.filterwarnings('ignore')\n"
   ]
  },
  {
   "cell_type": "code",
   "execution_count": 13,
   "metadata": {},
   "outputs": [],
   "source": [
    "class SignalExtractor:\n",
    "\n",
    "    def __init__(self, sample_rate=25):\n",
    "        self.sample_rate = sample_rate\n",
    "        pass\n",
    "\n",
    "    def luma_component_mean(self, frames, **kwargs):\n",
    "        signal = []\n",
    "\n",
    "        for frame_bgr in frames:\n",
    "            frame_bgr = np.array(frame_bgr)\n",
    "            frame_bgr = frame_bgr.astype(np.float32)\n",
    "            img_ycrcb = cv2.cvtColor(frame_bgr, cv2.COLOR_BGR2YCrCb)\n",
    "            mean_of_luma = img_ycrcb[..., 0].mean()\n",
    "            signal.append(mean_of_luma)\n",
    "\n",
    "        signal = np.array(signal)\n",
    "\n",
    "        if not kwargs.get('initial_skip_seconds'):\n",
    "            kwargs['initial_skip_seconds'] = 1\n",
    "\n",
    "        samples_to_skip = kwargs[\"initial_skip_seconds\"] * self.sample_rate\n",
    "        signal = signal[samples_to_skip:]  # ignore first second because of auto exposure\n",
    "\n",
    "        return signal\n",
    "\n",
    "    \n",
    "\n",
    "class SignalPreprocessor:\n",
    "\n",
    "    def __init__(self, sample_rate):\n",
    "        self.sample_rate = sample_rate\n",
    "        self.shorter_names = {\n",
    "            \"hpf\": \"butter_highpass_filter\",\n",
    "            \"lpf\": \"butter_lowpass_filter\",\n",
    "            \"maf\": \"moving_average_flat\",\n",
    "            \"diff_pad\": \"minus_with_pad\",\n",
    "            \"fft\": \"fft\",\n",
    "            \"roll_avg\": \"rolling_average\",\n",
    "            \"sub\": \"subtract\",\n",
    "            \"bandpass\": \"butter_bandpass_filter\",\n",
    "            \"imf\": \"increase_main_freq\",\n",
    "            \"cut_start\": \"cut_start\",\n",
    "            \"bpf_bpm\": \"bandpass_bpm\"\n",
    "        }\n",
    "\n",
    "    \n",
    "    def rolling_average(self, signal, **kwargs):\n",
    "        window_size_seconds = kwargs[\"window_size_seconds\"]\n",
    "        window_size = int(window_size_seconds * self.sample_rate)\n",
    "        if window_size % 2 == 0:\n",
    "            window_size += 1\n",
    "        y = np.convolve(signal, np.ones(window_size), 'valid') / window_size\n",
    "        y = np.pad(y, [((window_size - 1) // 2, (window_size - 1) // 2)], mode='edge')\n",
    "        return y\n",
    "\n",
    "    \n",
    "    def subtract(self, signal, **kwargs):\n",
    "        original_signal = kwargs[\"prev_x\"]\n",
    "        assert signal.shape == original_signal.shape\n",
    "        y = original_signal - signal\n",
    "        return y\n",
    "\n",
    "    \n",
    "    def butter_lowpass_filter(self, signal, low, filter_order):\n",
    "        nyq = 0.5 * self.sample_rate\n",
    "        normal_cutoff = low / nyq\n",
    "        output = butter(filter_order, normal_cutoff, btype='low', analog=False)\n",
    "        b, a = output[0], output[1]\n",
    "        y = lfilter(b, a, signal)\n",
    "        return y\n",
    "\n",
    "    "
   ]
  },
  {
   "cell_type": "code",
   "execution_count": 14,
   "metadata": {},
   "outputs": [
    {
     "name": "stdout",
     "output_type": "stream",
     "text": [
      "Done\n"
     ]
    }
   ],
   "source": [
    "import cv2  #opencv\n",
    "def convert_video_to_array(video_file):\n",
    "    print('Converting video to array - ')\n",
    "    list_of_frames = []\n",
    "    vidcap = cv2.VideoCapture(video_file)\n",
    "    vidcap.set(cv2.CAP_PROP_FPS, 30)\n",
    "    vidcap.set(cv2.CAP_PROP_FRAME_COUNT, 300)\n",
    "\n",
    "    while vidcap.isOpened():\n",
    "        success, frame = vidcap.read()\n",
    "\n",
    "        try:\n",
    "            new_frame = cv2.rotate(frame, cv2.ROTATE_90_COUNTERCLOCKWISE)\n",
    "            new_frame = cv2.resize(new_frame, (480, 360))\n",
    "        except Exception as e:\n",
    "            print('Warning - ' + str(e))\n",
    "            break\n",
    "\n",
    "        list_of_frames.append(new_frame)\n",
    "    print(len(list_of_frames))\n",
    "    return list_of_frames\n",
    "\n",
    "print(\"Done\")"
   ]
  },
  {
   "cell_type": "code",
   "execution_count": 15,
   "metadata": {},
   "outputs": [],
   "source": [
    "def main_function(video_file_location):\n",
    "        '''\n",
    "        # 1. Read video file\n",
    "        # 2. Process video file - RGB -> YCrCB conversion\n",
    "        # 3. Find mean of each frame\n",
    "        # 4. Find heart beat\n",
    "        \n",
    "        '''\n",
    "        \n",
    "        # 1. Read video file\n",
    "        video_array = convert_video_to_array(video_file_location)\n",
    "        \n",
    "        \n",
    "        # Process the luma_mean and red_mean values.\n",
    "        se = SignalExtractor(30)\n",
    "        extracted_signal = pd.DataFrame()\n",
    "        luma_mean = se.luma_component_mean(video_array, initial_skip_seconds= 1)\n",
    "        # red_mean = se.red_channel_mean(video_array, initial_skip_seconds= 0)\n",
    "\n",
    "        extracted_signal['luma_mean'] = luma_mean * -1\n",
    "        # extracted_signal['r_ch_mean'] = red_mean * -1\n",
    "        \n",
    "        sp = SignalPreprocessor(30)\n",
    "        # luma_mean = np.array(data['body']['yellowAv'])\n",
    "        # Low Pass Filtering\n",
    "        rolling_avg = sp.rolling_average(luma_mean, window_size_seconds= 1.01)\n",
    "        sub_values = sp.subtract(rolling_avg, prev_x=luma_mean)\n",
    "        lpf_values = sp.butter_lowpass_filter(sub_values, low= 4, filter_order= 2)\n",
    "        lpf_df = pd.DataFrame(lpf_values, columns=['LPF_Values'])\n",
    "        \n",
    "        wd, m = hp.process(lpf_df['LPF_Values'], sample_rate=30, windowsize=1)\n",
    "        m['breathingrate'] = 1.0 / m['breathingrate']\n",
    "        \n",
    "        print('Heart Rate Values - ', m)\n",
    "        \n",
    "        # Get HRV Analysis\n",
    "        #fig = lpf_df.plot(y='LPF_Values', kind='line').get_figure()\n",
    "        "
   ]
  },
  {
   "cell_type": "code",
   "execution_count": 16,
   "metadata": {},
   "outputs": [
    {
     "name": "stdout",
     "output_type": "stream",
     "text": [
      "Converting video to array - \n",
      "Warning - OpenCV(4.5.1) C:\\Users\\appveyor\\AppData\\Local\\Temp\\1\\pip-req-build-oduouqig\\opencv\\modules\\imgproc\\src\\resize.cpp:4051: error: (-215:Assertion failed) !ssize.empty() in function 'cv::resize'\n",
      "\n",
      "321\n",
      "Heart Rate Values -  {'bpm': 71.1864406779661, 'ibi': 842.8571428571429, 'sdnn': 77.07816217256497, 'sdsd': 45.215533220835084, 'rmssd': 69.9205898780101, 'pnn20': 0.8, 'pnn50': 0.4, 'hr_mad': 66.66666666666663, 'sd1': 40.55175020198814, 'sd2': 90.18499505645786, 's': 11489.30507733394, 'sd1/sd2': 0.44965074485619055, 'breathingrate': 5.898}\n"
     ]
    }
   ],
   "source": [
    "main_function('../Data/PPG-80.mp4')\n",
    "\n",
    "# main_function('C:/Users/preetham/Desktop/HRV_Videos/Data/PPG-70.mp4')"
   ]
  },
  {
   "cell_type": "code",
   "execution_count": 14,
   "metadata": {},
   "outputs": [],
   "source": [
    "x=pd.DataFrame()"
   ]
  },
  {
   "cell_type": "code",
   "execution_count": 16,
   "metadata": {},
   "outputs": [
    {
     "data": {
      "text/html": [
       "<div>\n",
       "<style scoped>\n",
       "    .dataframe tbody tr th:only-of-type {\n",
       "        vertical-align: middle;\n",
       "    }\n",
       "\n",
       "    .dataframe tbody tr th {\n",
       "        vertical-align: top;\n",
       "    }\n",
       "\n",
       "    .dataframe thead th {\n",
       "        text-align: right;\n",
       "    }\n",
       "</style>\n",
       "<table border=\"1\" class=\"dataframe\">\n",
       "  <thead>\n",
       "    <tr style=\"text-align: right;\">\n",
       "      <th></th>\n",
       "      <th>a</th>\n",
       "    </tr>\n",
       "  </thead>\n",
       "  <tbody>\n",
       "    <tr>\n",
       "      <td>0</td>\n",
       "      <td>1</td>\n",
       "    </tr>\n",
       "    <tr>\n",
       "      <td>1</td>\n",
       "      <td>2</td>\n",
       "    </tr>\n",
       "    <tr>\n",
       "      <td>2</td>\n",
       "      <td>3</td>\n",
       "    </tr>\n",
       "    <tr>\n",
       "      <td>3</td>\n",
       "      <td>4</td>\n",
       "    </tr>\n",
       "  </tbody>\n",
       "</table>\n",
       "</div>"
      ],
      "text/plain": [
       "   a\n",
       "0  1\n",
       "1  2\n",
       "2  3\n",
       "3  4"
      ]
     },
     "execution_count": 16,
     "metadata": {},
     "output_type": "execute_result"
    }
   ],
   "source": [
    "#xy = pd.DataFrame(columns=['luma_mean', 'r_ch_mean'])\n",
    "x[\"a\"]=[1,2,3,4]\n",
    "x"
   ]
  },
  {
   "cell_type": "code",
   "execution_count": null,
   "metadata": {},
   "outputs": [],
   "source": []
  }
 ],
 "metadata": {
  "kernelspec": {
   "display_name": "Python 3",
   "language": "python",
   "name": "python3"
  },
  "language_info": {
   "codemirror_mode": {
    "name": "ipython",
    "version": 3
   },
   "file_extension": ".py",
   "mimetype": "text/x-python",
   "name": "python",
   "nbconvert_exporter": "python",
   "pygments_lexer": "ipython3",
   "version": "3.7.4"
  }
 },
 "nbformat": 4,
 "nbformat_minor": 4
}
